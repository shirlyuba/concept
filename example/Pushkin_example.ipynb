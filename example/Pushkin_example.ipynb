{
 "cells": [
  {
   "cell_type": "markdown",
   "metadata": {},
   "source": [
    "**Напечатать 50 самых редких слов из сказок Пушкина**"
   ]
  },
  {
   "cell_type": "code",
   "execution_count": 40,
   "metadata": {},
   "outputs": [],
   "source": [
    "import numpy as np\n",
    "import sklearn\n",
    "from sklearn.feature_extraction.text import TfidfVectorizer"
   ]
  },
  {
   "cell_type": "code",
   "execution_count": 41,
   "metadata": {},
   "outputs": [],
   "source": [
    "with open(\"Pushkin.txt\") as f:\n",
    "    text = np.array([l.replace(\"\\n\", \"\") for l in f.readlines()])"
   ]
  },
  {
   "cell_type": "code",
   "execution_count": 42,
   "metadata": {},
   "outputs": [
    {
     "data": {
      "text/plain": [
       "array(['Александр Сергеевич Пушкин', '', 'Оглавление',\n",
       "       'Сказка о рыбаке и рыбке',\n",
       "       'Сказка о царе Салтане, о сыне его славном и могучем богатыре князе Гвидоне Салтановиче и о прекрасной царевне лебеди',\n",
       "       'Сказка о золотом петушке', 'Сказка о медведихе',\n",
       "       'Сказка о мертвой царевне и о семи богатырях',\n",
       "       'Сказка о попе и работнике его Балде', ''], dtype='<U116')"
      ]
     },
     "execution_count": 42,
     "metadata": {},
     "output_type": "execute_result"
    }
   ],
   "source": [
    "text[:10]"
   ]
  },
  {
   "cell_type": "code",
   "execution_count": 43,
   "metadata": {},
   "outputs": [],
   "source": [
    "vectorizer = TfidfVectorizer()\n",
    "X = vectorizer.fit_transform(text)\n",
    "N = 50\n",
    "idx = np.ravel(X.sum(axis=0).argsort(axis=1))[::-1][-N:]\n",
    "recent_words = np.array(vectorizer.get_feature_names())[idx].tolist()"
   ]
  },
  {
   "cell_type": "code",
   "execution_count": 44,
   "metadata": {},
   "outputs": [
    {
     "data": {
      "text/plain": [
       "['полбу',\n",
       " 'кричат',\n",
       " 'побоища',\n",
       " 'стана',\n",
       " 'штука',\n",
       " 'этого',\n",
       " 'провести',\n",
       " 'шага',\n",
       " 'шагнул',\n",
       " 'приподнял',\n",
       " 'собери',\n",
       " 'чертей',\n",
       " 'недоимки',\n",
       " 'уши',\n",
       " 'держит',\n",
       " 'зайку',\n",
       " 'ходят',\n",
       " 'воют',\n",
       " 'воем',\n",
       " 'обежит',\n",
       " 'шеломов',\n",
       " 'лат',\n",
       " 'версту',\n",
       " 'столбом',\n",
       " 'пыль',\n",
       " 'проскакал',\n",
       " 'беленький',\n",
       " 'серенький',\n",
       " 'дошли',\n",
       " 'бурого',\n",
       " 'медведя',\n",
       " 'боярской',\n",
       " 'казну',\n",
       " 'чин',\n",
       " 'трепещет',\n",
       " 'умеешь',\n",
       " 'ступить',\n",
       " 'кири',\n",
       " 'закажи',\n",
       " 'сраженья',\n",
       " 'ждешь',\n",
       " 'тучки',\n",
       " 'жду',\n",
       " 'этой',\n",
       " 'честном',\n",
       " 'народе',\n",
       " 'пьет',\n",
       " 'требуй',\n",
       " 'исполнил',\n",
       " 'дремучего']"
      ]
     },
     "execution_count": 44,
     "metadata": {},
     "output_type": "execute_result"
    }
   ],
   "source": [
    "recent_words"
   ]
  }
 ],
 "metadata": {
  "kernelspec": {
   "display_name": "Python 3",
   "language": "python",
   "name": "python3"
  },
  "language_info": {
   "codemirror_mode": {
    "name": "ipython",
    "version": 3
   },
   "file_extension": ".py",
   "mimetype": "text/x-python",
   "name": "python",
   "nbconvert_exporter": "python",
   "pygments_lexer": "ipython3",
   "version": "3.5.2"
  }
 },
 "nbformat": 4,
 "nbformat_minor": 2
}
