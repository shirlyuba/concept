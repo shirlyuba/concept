{
 "cells": [
  {
   "cell_type": "code",
   "execution_count": 1,
   "metadata": {},
   "outputs": [],
   "source": [
    "import artm\n",
    "import re\n",
    "import numpy as np\n",
    "import tqdm\n",
    "from sklearn.feature_extraction.text import TfidfVectorizer\n",
    "import matplotlib.pyplot as plt\n",
    "import pymorphy2\n",
    "\n",
    "morph = pymorphy2.MorphAnalyzer()\n",
    "\n",
    "def clean_text(text):\n",
    "    cleaned_text = np.array([])\n",
    "    for t in tqdm.tqdm_notebook(text):\n",
    "        t = re.sub(\"[^а-яА-Яa-zA-Z0-9_ ]\", \"\", t).lower()\n",
    "        t = normalization(t)\n",
    "        cleaned_text = np.append(cleaned_text, t)\n",
    "    return cleaned_text\n",
    "\n",
    "def normalization(text):\n",
    "    new_text = []\n",
    "    for t in text.split(\" \"):\n",
    "        new_text.append(morph.parse(t)[0].normal_form)\n",
    "    return (\" \").join(new_text)\n",
    "\n",
    "def del_stop_words(text, stop_words=None):\n",
    "    stop_text = []\n",
    "    for t in tqdm.tqdm(text):\n",
    "        words = t.split(\" \")\n",
    "        clear_text = []\n",
    "        for word in words:\n",
    "            if word not in stop_words:\n",
    "                clear_text.append(word)\n",
    "        t = (\" \").join(clear_text)\n",
    "        stop_text.append(t)\n",
    "    return stop_text\n",
    "\n",
    "def create_stop_words(text):\n",
    "    tfidf = TfidfVectorizer()\n",
    "    X = tfidf.fit_transform(text)\n",
    "    N = 50\n",
    "    idx = np.ravel(X.sum(axis=0).argsort(axis=1))[::-1][-N:]\n",
    "    recent_words = np.array(tfidf.get_feature_names())[idx].tolist()\n",
    "    with open('ya_stop_words.txt', \"rt\", encoding=\"utf-8\") as f:\n",
    "        ya_stop = list([l.replace(\"\\n\", \"\") for l in f.readlines()])\n",
    "    with open('stop_words.txt', \"rt\", encoding=\"utf-8\") as f:\n",
    "        top_words = list([l.replace(\"\\n\", \"\") for l in f.readlines()])  \n",
    "    alphabet = ['а', 'б', 'в', 'г', 'д', 'е', 'ё', 'ж', 'з', 'и',\n",
    "                'к', 'л', 'м', 'н', 'о', 'п', 'р', 'с', 'т', 'у',\n",
    "                'ф', 'х', 'ц', 'ч', 'ш', 'щ', 'ъ', 'ы', 'ь', 'э',\n",
    "                'ю', 'я']   \n",
    "    stop_words = top_words + recent_words + alphabet + ya_stop\n",
    "    return stop_words\n",
    "\n",
    "def del_short_msg(text, size):\n",
    "    new_text = []\n",
    "    good_ind = []\n",
    "    for i,t in tqdm.tqdm(enumerate(text)):\n",
    "        if (len(re.split(\" \", t)) >= size):\n",
    "            new_text.append(t)\n",
    "            good_ind.append(i)\n",
    "    return new_text, good_ind"
   ]
  },
  {
   "cell_type": "code",
   "execution_count": 2,
   "metadata": {
    "scrolled": true
   },
   "outputs": [],
   "source": [
    "with open('lines.txt', \"rt\", encoding=\"utf-8\") as f:\n",
    "    original_text = np.array(list([l.replace(\"\\n\", \"\") for l in f.readlines()]))"
   ]
  },
  {
   "cell_type": "code",
   "execution_count": 3,
   "metadata": {},
   "outputs": [],
   "source": [
    "original_text = [x for x in original_text if x != '']"
   ]
  },
  {
   "cell_type": "code",
   "execution_count": 4,
   "metadata": {},
   "outputs": [
    {
     "data": {
      "text/plain": [
       "7122"
      ]
     },
     "execution_count": 4,
     "metadata": {},
     "output_type": "execute_result"
    }
   ],
   "source": [
    "len(original_text)"
   ]
  },
  {
   "cell_type": "code",
   "execution_count": 5,
   "metadata": {},
   "outputs": [
    {
     "data": {
      "application/vnd.jupyter.widget-view+json": {
       "model_id": "5c85884f487b4c01825ca0908a152379",
       "version_major": 2,
       "version_minor": 0
      },
      "text/html": [
       "<p>Failed to display Jupyter Widget of type <code>HBox</code>.</p>\n",
       "<p>\n",
       "  If you're reading this message in the Jupyter Notebook or JupyterLab Notebook, it may mean\n",
       "  that the widgets JavaScript is still loading. If this message persists, it\n",
       "  likely means that the widgets JavaScript library is either not installed or\n",
       "  not enabled. See the <a href=\"https://ipywidgets.readthedocs.io/en/stable/user_install.html\">Jupyter\n",
       "  Widgets Documentation</a> for setup instructions.\n",
       "</p>\n",
       "<p>\n",
       "  If you're reading this message in another frontend (for example, a static\n",
       "  rendering on GitHub or <a href=\"https://nbviewer.jupyter.org/\">NBViewer</a>),\n",
       "  it may mean that your frontend doesn't currently support widgets.\n",
       "</p>\n"
      ],
      "text/plain": [
       "HBox(children=(IntProgress(value=0, max=7122), HTML(value='')))"
      ]
     },
     "metadata": {},
     "output_type": "display_data"
    },
    {
     "name": "stdout",
     "output_type": "stream",
     "text": [
      "\n"
     ]
    }
   ],
   "source": [
    "cleaned_text = clean_text(original_text)"
   ]
  },
  {
   "cell_type": "code",
   "execution_count": 6,
   "metadata": {},
   "outputs": [
    {
     "name": "stderr",
     "output_type": "stream",
     "text": [
      "100%|██████████| 7122/7122 [00:02<00:00, 2996.62it/s]\n",
      "100%|██████████| 7122/7122 [00:01<00:00, 3855.05it/s]\n",
      "100%|██████████| 7122/7122 [00:01<00:00, 3871.77it/s]\n",
      "100%|██████████| 7122/7122 [00:01<00:00, 3886.75it/s]\n",
      "100%|██████████| 7122/7122 [00:01<00:00, 3907.62it/s]\n"
     ]
    }
   ],
   "source": [
    "stop_words = create_stop_words(cleaned_text)\n",
    "text = cleaned_text\n",
    "for i in range(5):\n",
    "    text = np.array(del_stop_words(text, stop_words))"
   ]
  },
  {
   "cell_type": "code",
   "execution_count": 7,
   "metadata": {},
   "outputs": [
    {
     "name": "stderr",
     "output_type": "stream",
     "text": [
      "7122it [00:00, 79746.47it/s]\n"
     ]
    }
   ],
   "source": [
    "text, ind = del_short_msg(text, 15)"
   ]
  },
  {
   "cell_type": "code",
   "execution_count": 8,
   "metadata": {},
   "outputs": [],
   "source": [
    "new_text = []\n",
    "for t in text:\n",
    "    new_text.append(\" |text \" + t + \" \")"
   ]
  },
  {
   "cell_type": "code",
   "execution_count": 9,
   "metadata": {},
   "outputs": [],
   "source": [
    "file = 'ba.txt'\n",
    "with open(file, \"w\", encoding=\"utf-8\") as f:\n",
    "    f.writelines(\"\\n\".join(new_text))"
   ]
  },
  {
   "cell_type": "code",
   "execution_count": 10,
   "metadata": {},
   "outputs": [],
   "source": [
    "batch_vectorizer = artm.BatchVectorizer(data_path=file, data_format=\"vowpal_wabbit\", target_folder=\"batches\")"
   ]
  },
  {
   "cell_type": "code",
   "execution_count": 11,
   "metadata": {},
   "outputs": [],
   "source": [
    "with open(file, \"rt\", encoding=\"utf-8\") as f:\n",
    "    text = np.array(sorted(list(([l.replace(\"\\n\", \"\") for l in f.readlines()]))))"
   ]
  },
  {
   "cell_type": "code",
   "execution_count": 12,
   "metadata": {},
   "outputs": [
    {
     "data": {
      "text/plain": [
       "3471"
      ]
     },
     "execution_count": 12,
     "metadata": {},
     "output_type": "execute_result"
    }
   ],
   "source": [
    "len(text)"
   ]
  },
  {
   "cell_type": "code",
   "execution_count": 13,
   "metadata": {},
   "outputs": [],
   "source": [
    "dictionary = artm.Dictionary('dictionary')\n",
    "dictionary.gather(batch_vectorizer.data_path)\n",
    "dictionary.save_text(dictionary_path='dictionary.txt')\n",
    "\n",
    "#dictionary.load_text(dictionary_path='dictionary.txt')"
   ]
  },
  {
   "cell_type": "code",
   "execution_count": 14,
   "metadata": {},
   "outputs": [
    {
     "data": {
      "image/png": "[encoded data removed]",
      "text/plain": [
       "<matplotlib.figure.Figure at 0x7fd3c2126128>"
      ]
     },
     "metadata": {},
     "output_type": "display_data"
    },
    {
     "name": "stdout",
     "output_type": "stream",
     "text": [
      "0.8880344033241272\n",
      "0.7159769535064697\n"
     ]
    }
   ],
   "source": [
    "T=25\n",
    "model_artm = artm.ARTM(num_topics=T, topic_names=[str(i) for i in range(T)], class_ids={\"text\":1}, \n",
    "                                       num_document_passes=3, reuse_theta=True, cache_theta=True, seed=-1)\n",
    "model_artm.scores.add(artm.PerplexityScore(name='PerplexityScore',\n",
    "                                                           dictionary='dictionary'))\n",
    "model_artm.scores.add(artm.SparsityPhiScore(name='SparsityPhiScore', class_id=\"text\"))\n",
    "model_artm.scores.add(artm.SparsityThetaScore(name='SparsityThetaScore'))\n",
    "model_artm.scores.add(artm.TopTokensScore(name=\"top_words\", num_tokens=6, class_id=\"text\"))\n",
    "model_artm.initialize('dictionary')\n",
    "model_artm.fit_offline(batch_vectorizer=batch_vectorizer, num_collection_passes=20)\n",
    "model_artm.regularizers.add(artm.DecorrelatorPhiRegularizer(name='decorr'))\n",
    "model_artm.regularizers['decorr'].tau = 0.01\n",
    "model_artm.fit_offline(batch_vectorizer=batch_vectorizer, num_collection_passes=5)\n",
    "plt.plot(model_artm.score_tracker[\"PerplexityScore\"].value)\n",
    "plt.show()\n",
    "theta = model_artm.get_theta()\n",
    "tok = model_artm.score_tracker[\"top_words\"].last_tokens\n",
    "weights = model_artm.score_tracker[\"top_words\"].last_weights\n",
    "print(model_artm.score_tracker[\"SparsityPhiScore\"].last_value)\n",
    "print(model_artm.score_tracker[\"SparsityThetaScore\"].last_value)"
   ]
  },
  {
   "cell_type": "code",
   "execution_count": 15,
   "metadata": {},
   "outputs": [],
   "source": [
    "themas = list(model_artm.score_tracker[\"top_words\"].last_tokens.keys())"
   ]
  },
  {
   "cell_type": "code",
   "execution_count": 16,
   "metadata": {
    "scrolled": false
   },
   "outputs": [
    {
     "name": "stdout",
     "output_type": "stream",
     "text": [
      "__________________________________________________________________\n",
      "тема номер  1\n",
      "__________________________________________________________________\n",
      "спортсмен 0.007320451084524393\n",
      "дом 0.006508564576506615\n",
      "жить 0.006122310645878315\n",
      "россия 0.005985551979392767\n",
      "никогда 0.0055905673652887344\n",
      "советский 0.005320070311427116\n",
      "__________________________________________________________________\n",
      "тема номер  2\n",
      "__________________________________________________________________\n",
      "письмо 0.01452464610338211\n",
      "россия 0.009649060666561127\n",
      "думать 0.00867997482419014\n",
      "плюс 0.007675184402614832\n",
      "столица 0.007304970175027847\n",
      "постсоветский 0.007286005187779665\n",
      "__________________________________________________________________\n",
      "тема номер  5\n",
      "__________________________________________________________________\n",
      "должный 0.007541394326835871\n",
      "страна 0.005955693311989307\n",
      "другой 0.0055724866688251495\n",
      "россия 0.005311886314302683\n",
      "работать 0.005244419444352388\n",
      "уровень 0.004848454613238573\n",
      "__________________________________________________________________\n",
      "тема номер  6\n",
      "__________________________________________________________________\n",
      "самый 0.008035548031330109\n",
      "область 0.0073476978577673435\n",
      "ребёнок 0.0070186397060751915\n",
      "рыба 0.006725271698087454\n",
      "завод 0.006453596521168947\n",
      "выбор 0.005752819124609232\n",
      "__________________________________________________________________\n",
      "тема номер  7\n",
      "__________________________________________________________________\n",
      "должный 0.008506987243890762\n",
      "самый 0.007427684497088194\n",
      "другой 0.00739734573289752\n",
      "ваш 0.006383173633366823\n",
      "пенсионный 0.0041244495660066605\n",
      "орган 0.003961942158639431\n",
      "__________________________________________________________________\n",
      "тема номер  9\n",
      "__________________________________________________________________\n",
      "тысяча 0.013684981502592564\n",
      "город 0.012019003741443157\n",
      "работать 0.011773422360420227\n",
      "ребёнок 0.008295807987451553\n",
      "центр 0.008260521106421947\n",
      "миллион 0.008148730732500553\n",
      "__________________________________________________________________\n",
      "тема номер  11\n",
      "__________________________________________________________________\n",
      "процент 0.05899336561560631\n",
      "тысяча 0.03119584545493126\n",
      "миллиард 0.022259505465626717\n",
      "социальный 0.01941336877644062\n",
      "рубль 0.017155632376670837\n",
      "гдеть 0.016705654561519623\n",
      "__________________________________________________________________\n",
      "тема номер  15\n",
      "__________________________________________________________________\n",
      "должный 0.01460232026875019\n",
      "правительство 0.009110936895012856\n",
      "мир 0.007855789735913277\n",
      "страна 0.0075051565654575825\n",
      "решение 0.007215362507849932\n",
      "другой 0.006379188038408756\n",
      "__________________________________________________________________\n",
      "тема номер  16\n",
      "__________________________________________________________________\n",
      "прямая 0.009366580285131931\n",
      "звонок 0.009027784690260887\n",
      "линия 0.008645414374768734\n",
      "знать 0.008307266049087048\n",
      "учебник 0.00827622227370739\n",
      "написать 0.008010726422071457\n",
      "__________________________________________________________________\n",
      "тема номер  17\n",
      "__________________________________________________________________\n",
      "отечественный 0.013825947418808937\n",
      "война 0.011851469986140728\n",
      "россия 0.01120084524154663\n",
      "великий 0.009758533909916878\n",
      "лекарство 0.008795563131570816\n",
      "два 0.007989849895238876\n",
      "__________________________________________________________________\n",
      "тема номер  19\n",
      "__________________________________________________________________\n",
      "должный 0.010352855548262596\n",
      "страна 0.009351780638098717\n",
      "россия 0.008428174071013927\n",
      "решение 0.007198644801974297\n",
      "российский 0.006356665398925543\n",
      "другой 0.0056810537353158\n",
      "__________________________________________________________________\n",
      "тема номер  20\n",
      "__________________________________________________________________\n",
      "восток 0.013155750930309296\n",
      "дальний 0.011447377502918243\n",
      "зерно 0.011134802363812923\n",
      "тонна 0.009423031471669674\n",
      "миллион 0.00809596199542284\n",
      "лев 0.006749375257641077\n",
      "__________________________________________________________________\n",
      "тема номер  22\n",
      "__________________________________________________________________\n",
      "должный 0.01197142992168665\n",
      "решение 0.00748455198481679\n",
      "другой 0.0071393270045518875\n",
      "страна 0.006587469484657049\n",
      "работать 0.006049369461834431\n",
      "россия 0.005978793371468782\n",
      "__________________________________________________________________\n",
      "тема номер  24\n",
      "__________________________________________________________________\n",
      "развитие 0.01598183996975422\n",
      "программа 0.014918236993253231\n",
      "новый 0.014215058647096157\n",
      "новое 0.010666274465620518\n",
      "страна 0.010082036256790161\n",
      "число 0.008234185166656971\n"
     ]
    }
   ],
   "source": [
    "for thema in np.sort([int(t) for t in themas]):\n",
    "    print(\"__________________________________________________________________\")\n",
    "    print(\"тема номер \", thema)\n",
    "    print(\"__________________________________________________________________\")\n",
    "    for i in range(6):\n",
    "        print(model_artm.score_tracker['top_words'].last_tokens[str(thema)][i],\n",
    "              model_artm.score_tracker['top_words'].last_weights[str(thema)][i])"
   ]
  },
  {
   "cell_type": "code",
   "execution_count": 17,
   "metadata": {},
   "outputs": [],
   "source": [
    "theta = model_artm.get_theta()\n",
    "phi = model_artm.get_phi()"
   ]
  },
  {
   "cell_type": "code",
   "execution_count": 18,
   "metadata": {},
   "outputs": [],
   "source": [
    "phi.to_csv('phi.csv')"
   ]
  },
  {
   "cell_type": "code",
   "execution_count": 19,
   "metadata": {},
   "outputs": [],
   "source": [
    "theta.to_csv('theta.csv')"
   ]
  },
  {
   "cell_type": "code",
   "execution_count": 20,
   "metadata": {},
   "outputs": [],
   "source": [
    "z = sorted(list(theta.columns))"
   ]
  },
  {
   "cell_type": "code",
   "execution_count": 21,
   "metadata": {},
   "outputs": [],
   "source": [
    "for t in themas:\n",
    "    f = open('results/{}.txt'.format(t), mode='w')\n",
    "    for i in range(theta.shape[1]):\n",
    "        if theta[z[i]].idxmax() == t and theta[z[i]].max() >= 0.8:\n",
    "            if i == z[i]:\n",
    "                f.write(original_text[ind[i]] + '\\n\\n')\n",
    "            else:\n",
    "                pass\n",
    "        else:\n",
    "            pass\n",
    "        "
   ]
  }
 ],
 "metadata": {
  "kernelspec": {
   "display_name": "Python 3",
   "language": "python",
   "name": "python3"
  },
  "language_info": {
   "codemirror_mode": {
    "name": "ipython",
    "version": 3
   },
   "file_extension": ".py",
   "mimetype": "text/x-python",
   "name": "python",
   "nbconvert_exporter": "python",
   "pygments_lexer": "ipython3",
   "version": "3.5.2"
  }
 },
 "nbformat": 4,
 "nbformat_minor": 2
}
